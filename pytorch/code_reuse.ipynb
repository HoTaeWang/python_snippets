{
 "cells": [
  {
   "cell_type": "code",
   "execution_count": 20,
   "id": "079a6a9a-0517-4b07-af3d-3546a8869820",
   "metadata": {
    "tags": []
   },
   "outputs": [],
   "source": [
    "class Animal:\n",
    "    name = \"\"\n",
    "    category = \"\"\n",
    "    \n",
    "    def __init__(self, name):\n",
    "        self.name = name\n",
    "        \n",
    "    def set_category(self, category):\n",
    "        self.category = category"
   ]
  },
  {
   "cell_type": "code",
   "execution_count": 21,
   "id": "1a1c2aaf-d478-4d71-8a18-e0810bfc2987",
   "metadata": {
    "tags": []
   },
   "outputs": [],
   "source": [
    "class Turtle(Animal):\n",
    "    category = \"reptile\"\n",
    "    \n",
    "    def __init__(self, name):\n",
    "        super().__init__(name)\n",
    "        \n",
    "        "
   ]
  },
  {
   "cell_type": "code",
   "execution_count": 22,
   "id": "378bc448-e3e3-4fd1-a896-14628add5805",
   "metadata": {
    "tags": []
   },
   "outputs": [
    {
     "name": "stdout",
     "output_type": "stream",
     "text": [
      "reptile\n"
     ]
    }
   ],
   "source": [
    "print(Turtle.category)\n"
   ]
  },
  {
   "cell_type": "code",
   "execution_count": 23,
   "id": "04602118-928f-4041-a14f-2639922f5ee2",
   "metadata": {
    "tags": []
   },
   "outputs": [],
   "source": [
    "class Snake(Animal):\n",
    "    category = \"reptile\"\n",
    "    \n",
    "    def __init__(self, name):\n",
    "        super().__init__(name)"
   ]
  },
  {
   "cell_type": "code",
   "execution_count": 44,
   "id": "29d41c4f-fed9-4504-854d-c62c1b03553a",
   "metadata": {
    "tags": []
   },
   "outputs": [],
   "source": [
    "class Zoo:\n",
    "    \n",
    "    def __init__(self):\n",
    "        self.current_animals = {}\n",
    "        \n",
    "    def add_animal(self, animal):\n",
    "        self.current_animals[animal.name] = animal.category\n",
    "\n",
    "        \n",
    "    def total_of_category(self, category):\n",
    "        result = 0\n",
    "        for animal in self.current_animals.values():\n",
    "            if animal == category:\n",
    "                result += 1\n",
    "        return result\n",
    "    \n",
    "zoo = Zoo()\n"
   ]
  },
  {
   "cell_type": "code",
   "execution_count": 45,
   "id": "6851befe-3f6b-4b2c-8f58-976ba1deb51b",
   "metadata": {
    "tags": []
   },
   "outputs": [
    {
     "name": "stdout",
     "output_type": "stream",
     "text": [
      "2\n"
     ]
    }
   ],
   "source": [
    "turtle = Turtle(\"Turtle\")\n",
    "snake = Snake(\"Snake\")\n",
    "\n",
    "zoo.add_animal(turtle)\n",
    "zoo.add_animal(snake)\n",
    "\n",
    "print(zoo.total_of_category(\"reptile\"))"
   ]
  }
 ],
 "metadata": {
  "kernelspec": {
   "display_name": "Python 3 (ipykernel)",
   "language": "python",
   "name": "python3"
  },
  "language_info": {
   "codemirror_mode": {
    "name": "ipython",
    "version": 3
   },
   "file_extension": ".py",
   "mimetype": "text/x-python",
   "name": "python",
   "nbconvert_exporter": "python",
   "pygments_lexer": "ipython3",
   "version": "3.10.9"
  }
 },
 "nbformat": 4,
 "nbformat_minor": 5
}
