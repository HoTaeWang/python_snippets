{
 "cells": [
  {
   "cell_type": "code",
   "execution_count": 3,
   "id": "ce523090-b46a-475b-8aa4-2f0b2352a6e2",
   "metadata": {
    "tags": []
   },
   "outputs": [
    {
     "name": "stdout",
     "output_type": "stream",
     "text": [
      "14\n",
      "1\n",
      "1 2\n"
     ]
    }
   ],
   "source": [
    "number = 144\n",
    "loop = 10\n",
    "count = 0\n",
    "\n",
    "while number // 10:\n",
    "    count += 1\n",
    "    number //= 10\n",
    "    print(number)\n",
    "    if loop > 100:\n",
    "        break\n",
    "    loop += 1\n",
    "    \n",
    "print( number, count )"
   ]
  },
  {
   "cell_type": "code",
   "execution_count": 6,
   "id": "335ed2c7-8207-4cd6-b005-baa788b923b2",
   "metadata": {
    "tags": []
   },
   "outputs": [
    {
     "name": "stdout",
     "output_type": "stream",
     "text": [
      "{}, {} gmail.com ['clark.kent', 'diana.prince', 'peter.parker']\n",
      "email = ['clark.kent@gmail.com']\n",
      "email = ['clark.kent@gmail.com', 'diana.prince@gmail.com']\n",
      "email = ['clark.kent@gmail.com', 'diana.prince@gmail.com', 'peter.parker@gmail.com']\n",
      "{}, {} yahoo.com ['barbara.gordon', 'jean.grey']\n",
      "email = ['clark.kent@gmail.com', 'diana.prince@gmail.com', 'peter.parker@gmail.com', 'barbara.gordon@yahoo.com']\n",
      "email = ['clark.kent@gmail.com', 'diana.prince@gmail.com', 'peter.parker@gmail.com', 'barbara.gordon@yahoo.com', 'jean.grey@yahoo.com']\n",
      "{}, {} hotmail.com ['bruce.wayne']\n",
      "email = ['clark.kent@gmail.com', 'diana.prince@gmail.com', 'peter.parker@gmail.com', 'barbara.gordon@yahoo.com', 'jean.grey@yahoo.com', 'bruce.wayne@hotmail.com']\n",
      "['clark.kent@gmail.com', 'diana.prince@gmail.com', 'peter.parker@gmail.com', 'barbara.gordon@yahoo.com', 'jean.grey@yahoo.com', 'bruce.wayne@hotmail.com']\n"
     ]
    }
   ],
   "source": [
    "def email_list(domains):\n",
    "    emails = []\n",
    "    for key, users in domains.items():\n",
    "        for user in users:\n",
    "            emails.append(user + '@' + key)\n",
    "            print(\"email = {}\".format(emails))\n",
    "    return(emails)\n",
    "\n",
    "print(email_list({\"gmail.com\": [\"clark.kent\", \"diana.prince\", \"peter.parker\"], \"yahoo.com\": [\"barbara.gordon\", \"jean.grey\"], \"hotmail.com\": [\"bruce.wayne\"]}))"
   ]
  },
  {
   "cell_type": "code",
   "execution_count": 4,
   "id": "e761cb39-6dc6-4ed5-9f00-cfc1918a9ec7",
   "metadata": {
    "tags": []
   },
   "outputs": [
    {
     "name": "stdout",
     "output_type": "stream",
     "text": [
      "John S\n",
      "None\n"
     ]
    }
   ],
   "source": [
    "def name_tag(first_name, last_name):\n",
    "    print(\"{} {}\".format(first_name, last_name[0].upper()))\n",
    "    \n",
    "\n",
    "print(name_tag(\"John\", \"Smith\"))"
   ]
  },
  {
   "cell_type": "code",
   "execution_count": 2,
   "id": "6e21c49f-2ccf-4b45-a558-029eedd57d51",
   "metadata": {
    "tags": []
   },
   "outputs": [
    {
     "name": "stdout",
     "output_type": "stream",
     "text": [
      "Rain\n"
     ]
    }
   ],
   "source": [
    "Weather = \"Rainfall\"\n",
    "\n",
    "print(Weather[:4])"
   ]
  },
  {
   "cell_type": "code",
   "execution_count": 7,
   "id": "052a0800-f58d-46cb-bb9f-e81513358207",
   "metadata": {
    "tags": []
   },
   "outputs": [
    {
     "name": "stdout",
     "output_type": "stream",
     "text": [
      "Its raining cats and \n"
     ]
    }
   ],
   "source": [
    "sentense = \"Its raining cats and cats\"\n",
    "old = \"cats\"\n",
    "print(sentense[:-len(old)])"
   ]
  },
  {
   "cell_type": "code",
   "execution_count": 18,
   "id": "87c3fcf9-b6c2-45e4-86aa-dafb7ddef320",
   "metadata": {
    "tags": []
   },
   "outputs": [
    {
     "name": "stdout",
     "output_type": "stream",
     "text": [
      "origin = local, ['admin', 'userA'] \n",
      "current user = admin\n",
      "====== admin, {} \n",
      "admin {}\n",
      "current user = userA\n",
      "====== userA, {} \n",
      "userA {}\n",
      "origin = public, ['admin', 'userB'] \n",
      "current user = admin\n",
      "====== admin, {} \n",
      "admin {}\n",
      "current user = userB\n",
      "====== userB, {} \n",
      "userB {}\n",
      "origin = administrator, ['admin'] \n",
      "current user = admin\n",
      "====== admin, {} \n",
      "admin {}\n",
      "{}\n"
     ]
    }
   ],
   "source": [
    "def groups_per_user(group_dictionary):\n",
    "    user_groups = {}\n",
    "    # Go through group_dictionary\n",
    "    for group_name, users in group_dictionary.items():\n",
    "        print(\"origin = {}, {} \".format(group_name, users))\n",
    "        # Now go through the users in the group\n",
    "        for user in users:\n",
    "            print(\"current user = {}\".format(user))\n",
    "            # Now add the group to the the list of\n",
    "            # groups for this user, creating the entry\n",
    "            # in the dictionary if necessary\n",
    "            if user not in user_groups:\n",
    "                print(\"====== {}, {} \".format(user, user_groups))\n",
    "                #groups_per_user[user] = []\n",
    "            #groups_per_user[user].append(group_name)\n",
    "            print(user, user_groups)\n",
    "    return(user_groups)\n",
    "\n",
    "print(groups_per_user({\"local\": [\"admin\", \"userA\"],\t\"public\":  [\"admin\", \"userB\"],\t\"administrator\": [\"admin\"] }))"
   ]
  },
  {
   "cell_type": "code",
   "execution_count": 20,
   "id": "9291a441-d4d3-4353-acad-f8710a1b1029",
   "metadata": {
    "tags": []
   },
   "outputs": [
    {
     "name": "stdout",
     "output_type": "stream",
     "text": [
      "{'shirt': ['red', 'blue', 'white'], 'jeans': ['white'], 'scarf': ['yellow'], 'socks': ['black', 'brown']}\n"
     ]
    }
   ],
   "source": [
    "wardrobe = {'shirt': ['red', 'blue', 'white'], 'jeans': ['blue', 'black']}\n",
    "new_items = {'jeans': ['white'], 'scarf': ['yellow'], 'socks': ['black', 'brown']}\n",
    "wardrobe.update(new_items)\n",
    "\n",
    "print(wardrobe)"
   ]
  },
  {
   "cell_type": "code",
   "execution_count": 22,
   "id": "9d7bb696-0326-4e47-9093-4e1e3b2071b9",
   "metadata": {
    "tags": []
   },
   "outputs": [
    {
     "ename": "TypeError",
     "evalue": "can only concatenate list (not \"NoneType\") to list",
     "output_type": "error",
     "traceback": [
      "\u001b[1;31m---------------------------------------------------------------------------\u001b[0m",
      "\u001b[1;31mTypeError\u001b[0m                                 Traceback (most recent call last)",
      "Cell \u001b[1;32mIn[22], line 12\u001b[0m\n\u001b[0;32m      9\u001b[0m Jamies_list \u001b[38;5;241m=\u001b[39m [\u001b[38;5;124m\"\u001b[39m\u001b[38;5;124mAlice\u001b[39m\u001b[38;5;124m\"\u001b[39m, \u001b[38;5;124m\"\u001b[39m\u001b[38;5;124mCindy\u001b[39m\u001b[38;5;124m\"\u001b[39m, \u001b[38;5;124m\"\u001b[39m\u001b[38;5;124mBobby\u001b[39m\u001b[38;5;124m\"\u001b[39m, \u001b[38;5;124m\"\u001b[39m\u001b[38;5;124mJan\u001b[39m\u001b[38;5;124m\"\u001b[39m, \u001b[38;5;124m\"\u001b[39m\u001b[38;5;124mPeter\u001b[39m\u001b[38;5;124m\"\u001b[39m]\n\u001b[0;32m     10\u001b[0m Drews_list \u001b[38;5;241m=\u001b[39m [\u001b[38;5;124m\"\u001b[39m\u001b[38;5;124mMike\u001b[39m\u001b[38;5;124m\"\u001b[39m, \u001b[38;5;124m\"\u001b[39m\u001b[38;5;124mCarol\u001b[39m\u001b[38;5;124m\"\u001b[39m, \u001b[38;5;124m\"\u001b[39m\u001b[38;5;124mGreg\u001b[39m\u001b[38;5;124m\"\u001b[39m, \u001b[38;5;124m\"\u001b[39m\u001b[38;5;124mMarcia\u001b[39m\u001b[38;5;124m\"\u001b[39m]\n\u001b[1;32m---> 12\u001b[0m \u001b[38;5;28mprint\u001b[39m(\u001b[43mcombine_lists\u001b[49m\u001b[43m(\u001b[49m\u001b[43mJamies_list\u001b[49m\u001b[43m,\u001b[49m\u001b[43m \u001b[49m\u001b[43mDrews_list\u001b[49m\u001b[43m)\u001b[49m)\n",
      "Cell \u001b[1;32mIn[22], line 5\u001b[0m, in \u001b[0;36mcombine_lists\u001b[1;34m(list1, list2)\u001b[0m\n\u001b[0;32m      1\u001b[0m \u001b[38;5;28;01mdef\u001b[39;00m \u001b[38;5;21mcombine_lists\u001b[39m(list1, list2):\n\u001b[0;32m      2\u001b[0m   \u001b[38;5;66;03m# Generate a new list containing the elements of list2\u001b[39;00m\n\u001b[0;32m      3\u001b[0m   \u001b[38;5;66;03m# Followed by the elements of list1 in reverse order\u001b[39;00m\n\u001b[0;32m      4\u001b[0m   full_list \u001b[38;5;241m=\u001b[39m []\n\u001b[1;32m----> 5\u001b[0m   full_list \u001b[38;5;241m=\u001b[39m \u001b[43mDrews_list\u001b[49m\u001b[43m \u001b[49m\u001b[38;5;241;43m+\u001b[39;49m\u001b[43m \u001b[49m\u001b[43mJamies_list\u001b[49m\u001b[38;5;241;43m.\u001b[39;49m\u001b[43mreverse\u001b[49m\u001b[43m(\u001b[49m\u001b[43m)\u001b[49m\n\u001b[0;32m      6\u001b[0m   \u001b[38;5;28mprint\u001b[39m(full_list)  \n\u001b[0;32m      7\u001b[0m   \u001b[38;5;28;01mreturn\u001b[39;00m full_list\n",
      "\u001b[1;31mTypeError\u001b[0m: can only concatenate list (not \"NoneType\") to list"
     ]
    }
   ],
   "source": [
    "def combine_lists(list1, list2):\n",
    "  # Generate a new list containing the elements of list2\n",
    "  # Followed by the elements of list1 in reverse order\n",
    "  full_list = []\n",
    "  full_list = Drews_list + Jamies_list.reverse()\n",
    "  print(full_list)  \n",
    "  return full_list\n",
    "\n",
    "Jamies_list = [\"Alice\", \"Cindy\", \"Bobby\", \"Jan\", \"Peter\"]\n",
    "Drews_list = [\"Mike\", \"Carol\", \"Greg\", \"Marcia\"]\n",
    "\n",
    "print(combine_lists(Jamies_list, Drews_list))"
   ]
  }
 ],
 "metadata": {
  "kernelspec": {
   "display_name": "Python 3 (ipykernel)",
   "language": "python",
   "name": "python3"
  },
  "language_info": {
   "codemirror_mode": {
    "name": "ipython",
    "version": 3
   },
   "file_extension": ".py",
   "mimetype": "text/x-python",
   "name": "python",
   "nbconvert_exporter": "python",
   "pygments_lexer": "ipython3",
   "version": "3.10.9"
  }
 },
 "nbformat": 4,
 "nbformat_minor": 5
}
