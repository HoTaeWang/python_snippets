{
 "cells": [
  {
   "cell_type": "code",
   "execution_count": 4,
   "id": "27402121-aabb-4f2e-8145-45810025a9da",
   "metadata": {
    "tags": []
   },
   "outputs": [
    {
     "name": "stdout",
     "output_type": "stream",
     "text": [
      " Epoch    0/2999 W: 0.750, b: 0.250 Cost: 187.500000\n",
      " Epoch  100/2999 W: 4.617, b: 1.126 Cost: 0.213029\n",
      " Epoch  200/2999 W: 4.716, b: 0.834 Cost: 0.116950\n",
      " Epoch  300/2999 W: 4.790, b: 0.618 Cost: 0.064204\n",
      " Epoch  400/2999 W: 4.844, b: 0.458 Cost: 0.035248\n",
      " Epoch  500/2999 W: 4.885, b: 0.339 Cost: 0.019350\n",
      " Epoch  600/2999 W: 4.914, b: 0.251 Cost: 0.010623\n",
      " Epoch  700/2999 W: 4.937, b: 0.186 Cost: 0.005832\n",
      " Epoch  800/2999 W: 4.953, b: 0.138 Cost: 0.003202\n",
      " Epoch  900/2999 W: 4.965, b: 0.102 Cost: 0.001758\n",
      " Epoch 1000/2999 W: 4.974, b: 0.076 Cost: 0.000965\n",
      " Epoch 1100/2999 W: 4.981, b: 0.056 Cost: 0.000530\n",
      " Epoch 1200/2999 W: 4.986, b: 0.042 Cost: 0.000291\n",
      " Epoch 1300/2999 W: 4.990, b: 0.031 Cost: 0.000160\n",
      " Epoch 1400/2999 W: 4.992, b: 0.023 Cost: 0.000088\n",
      " Epoch 1500/2999 W: 4.994, b: 0.017 Cost: 0.000048\n",
      " Epoch 1600/2999 W: 4.996, b: 0.013 Cost: 0.000026\n",
      " Epoch 1700/2999 W: 4.997, b: 0.009 Cost: 0.000015\n",
      " Epoch 1800/2999 W: 4.998, b: 0.007 Cost: 0.000008\n",
      " Epoch 1900/2999 W: 4.998, b: 0.005 Cost: 0.000004\n",
      " Epoch 2000/2999 W: 4.999, b: 0.004 Cost: 0.000002\n",
      " Epoch 2100/2999 W: 4.999, b: 0.003 Cost: 0.000001\n",
      " Epoch 2200/2999 W: 4.999, b: 0.002 Cost: 0.000001\n",
      " Epoch 2300/2999 W: 4.999, b: 0.002 Cost: 0.000000\n",
      " Epoch 2400/2999 W: 5.000, b: 0.001 Cost: 0.000000\n",
      " Epoch 2500/2999 W: 5.000, b: 0.001 Cost: 0.000000\n",
      " Epoch 2600/2999 W: 5.000, b: 0.001 Cost: 0.000000\n",
      " Epoch 2700/2999 W: 5.000, b: 0.000 Cost: 0.000000\n",
      " Epoch 2800/2999 W: 5.000, b: 0.000 Cost: 0.000000\n",
      " Epoch 2900/2999 W: 5.000, b: 0.000 Cost: 0.000000\n"
     ]
    }
   ],
   "source": [
    "import torch\n",
    "\n",
    "# DATA\n",
    "x_train = torch.FloatTensor([[1], [2],  [3],  [4]])\n",
    "y_train = torch.FloatTensor([[5], [10], [15], [20]])\n",
    "\n",
    "# initialize the model\n",
    "W = torch.zeros(1, requires_grad=True)\n",
    "b = torch.zeros(1, requires_grad=True)\n",
    "\n",
    "# set the optimizer\n",
    "optimizer = torch.optim.SGD([W, b], lr=0.01)\n",
    "\n",
    "nb_epochs = 2999\n",
    "for epoch in range(nb_epochs + 1):\n",
    "    # calculate H(x)\n",
    "    hypothesis = x_train*W + b\n",
    "    \n",
    "    # calculate cost\n",
    "    cost = torch.mean((hypothesis - y_train) ** 2)\n",
    "    \n",
    "    # cost로 H(x) 개선....\n",
    "    optimizer.zero_grad()\n",
    "    cost.backward()\n",
    "    optimizer.step()\n",
    "    \n",
    "    #print out a log per 100th iterations\n",
    "    if epoch % 100 == 0:\n",
    "        print(' Epoch {:4d}/{} W: {:.3f}, b: {:.3f} Cost: {:.6f}'.format(epoch, nb_epochs, W.item(), b.item(), cost.item()))\n",
    "        "
   ]
  }
 ],
 "metadata": {
  "kernelspec": {
   "display_name": "Python 3 (ipykernel)",
   "language": "python",
   "name": "python3"
  },
  "language_info": {
   "codemirror_mode": {
    "name": "ipython",
    "version": 3
   },
   "file_extension": ".py",
   "mimetype": "text/x-python",
   "name": "python",
   "nbconvert_exporter": "python",
   "pygments_lexer": "ipython3",
   "version": "3.10.9"
  }
 },
 "nbformat": 4,
 "nbformat_minor": 5
}
