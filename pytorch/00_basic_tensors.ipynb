{
 "cells": [
  {
   "cell_type": "code",
   "execution_count": 6,
   "id": "d51bdbb9-889a-4499-a5ba-9493a01d4cb4",
   "metadata": {},
   "outputs": [
    {
     "name": "stdout",
     "output_type": "stream",
     "text": [
      "tensor([[1, 2, 3],\n",
      "        [4, 5, 6]])\n",
      "[[1, 2, 3], [4, 5, 6]]\n"
     ]
    }
   ],
   "source": [
    "import torch\n",
    "\n",
    "data1 = torch.tensor([[1,2,3], [4,5,6]])\n",
    "print(data1)\n",
    "# Convert tensor data into python list data form\n",
    "data1_1 = data1.data.tolist()\n",
    "print(data1_1)"
   ]
  },
  {
   "cell_type": "code",
   "execution_count": 8,
   "id": "e0251f96-a5c8-40ad-973a-a4fc5db3a94b",
   "metadata": {},
   "outputs": [
    {
     "name": "stdout",
     "output_type": "stream",
     "text": [
      "tensor([-0.2608, -1.8372,  0.1311, -2.0196,  1.2115,  0.5272, -2.1727,  1.9697])\n",
      "tensor([[1, 1, 1],\n",
      "        [1, 1, 1]])\n",
      "tensor([[0, 0, 0],\n",
      "        [0, 0, 0]])\n"
     ]
    }
   ],
   "source": [
    "data2 = torch.randn(8)\n",
    "print(data2)\n",
    "\n",
    "data1_ones = torch.ones_like(data1)\n",
    "data1_zeros = torch.zeros_like(data1)\n",
    "print(data1_ones)\n",
    "print(data1_zeros)"
   ]
  }
 ],
 "metadata": {
  "kernelspec": {
   "display_name": "Python 3 (ipykernel)",
   "language": "python",
   "name": "python3"
  },
  "language_info": {
   "codemirror_mode": {
    "name": "ipython",
    "version": 3
   },
   "file_extension": ".py",
   "mimetype": "text/x-python",
   "name": "python",
   "nbconvert_exporter": "python",
   "pygments_lexer": "ipython3",
   "version": "3.10.9"
  }
 },
 "nbformat": 4,
 "nbformat_minor": 5
}
