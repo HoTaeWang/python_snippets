{
 "cells": [
  {
   "cell_type": "code",
   "execution_count": 14,
   "id": "b00e70a7-5ac1-4089-9a2f-c2e957935e9f",
   "metadata": {
    "tags": []
   },
   "outputs": [
    {
     "name": "stdout",
     "output_type": "stream",
     "text": [
      "Origin Dataset: X.shape=(150, 4), Y.shape=(150, 1)\n",
      "Created a validation set (dev set), Dataset: X_train.shape=(120, 4), X_test.shape=(30, 4), Y_train.shape=(120, 1), Y_test.shape=(30, 1)\n"
     ]
    }
   ],
   "source": [
    "### Excercise 10: Performing DATA partition over a sample Dataset\n",
    "\n",
    "from sklearn.datasets import load_iris\n",
    "import pandas as pd\n",
    "from sklearn.model_selection import train_test_split\n",
    "\n",
    "# prepare dataset\n",
    "iris_data = load_iris()\n",
    "X = pd.DataFrame(iris_data.data)\n",
    "Y = pd.DataFrame(iris_data.target)\n",
    "print(\"Origin Dataset: X.shape={}, Y.shape={}\".format(X.shape, Y.shape))\n",
    "\n",
    "# split dataset\n",
    "X_train, X_test, Y_train, Y_test = train_test_split(X, Y, test_size = 0.2)\n",
    "\n",
    "# Output \n",
    "# X divided into two subsets(train and test) and Y divided into two corresponding subsets\n",
    "print(\"Created a validation set (dev set), Dataset: X_train.shape={}, X_test.shape={}, Y_train.shape={}, Y_test.shape={}\".format(X_train.shape, X_test.shape, Y_train.shape, Y_test.shape))\n",
    "\n",
    "# Divide the train set into two subsets (train and dev sets)"
   ]
  },
  {
   "cell_type": "code",
   "execution_count": null,
   "id": "23c6e6fe-f18d-4794-a9d5-525ff8118e0b",
   "metadata": {},
   "outputs": [],
   "source": []
  }
 ],
 "metadata": {
  "kernelspec": {
   "display_name": "Python 3 (ipykernel)",
   "language": "python",
   "name": "python3"
  },
  "language_info": {
   "codemirror_mode": {
    "name": "ipython",
    "version": 3
   },
   "file_extension": ".py",
   "mimetype": "text/x-python",
   "name": "python",
   "nbconvert_exporter": "python",
   "pygments_lexer": "ipython3",
   "version": "3.10.9"
  }
 },
 "nbformat": 4,
 "nbformat_minor": 5
}
