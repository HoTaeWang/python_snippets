{
 "cells": [
  {
   "cell_type": "code",
   "execution_count": 16,
   "id": "c3f2a025-31dc-4627-9224-c1728dad6c9d",
   "metadata": {
    "tags": []
   },
   "outputs": [
    {
     "name": "stdout",
     "output_type": "stream",
     "text": [
      "Step 3 : 55\n",
      "Step 3 : 114\n"
     ]
    }
   ],
   "source": [
    "# Find divisor\n",
    "def get_divisor(n):\n",
    "    sum = 0\n",
    "    index = 1\n",
    "    while n > index:\n",
    "        if n % index ==0:\n",
    "            sum += index\n",
    "        index += 1\n",
    "    return sum\n",
    "    \n",
    "    \n",
    "\n",
    "print(\"Step 3 :\", get_divisor(36))\n",
    "print(\"Step 3 :\", get_divisor(102))\n"
   ]
  },
  {
   "cell_type": "code",
   "execution_count": 15,
   "id": "5606914f-13e7-4d3e-ad27-2a165a04d024",
   "metadata": {
    "tags": []
   },
   "outputs": [
    {
     "name": "stdout",
     "output_type": "stream",
     "text": [
      " n =  36 , index =  1\n",
      " n =  36 , index =  2\n",
      " n =  36 , index =  3\n",
      " n =  36 , index =  4\n",
      " n =  36 , index =  5\n",
      " n =  36 , index =  6\n",
      " n =  36 , index =  7\n",
      " n =  36 , index =  8\n",
      " n =  36 , index =  9\n",
      " n =  36 , index =  10\n",
      " n =  36 , index =  11\n",
      " n =  36 , index =  12\n",
      " n =  36 , index =  13\n",
      " n =  36 , index =  14\n",
      " n =  36 , index =  15\n",
      " n =  36 , index =  16\n",
      " n =  36 , index =  17\n",
      " n =  36 , index =  18\n",
      " n =  36 , index =  19\n",
      " n =  36 , index =  20\n",
      " n =  36 , index =  21\n",
      " n =  36 , index =  22\n",
      " n =  36 , index =  23\n",
      " n =  36 , index =  24\n",
      " n =  36 , index =  25\n",
      " n =  36 , index =  26\n",
      " n =  36 , index =  27\n",
      " n =  36 , index =  28\n",
      " n =  36 , index =  29\n",
      " n =  36 , index =  30\n",
      " n =  36 , index =  31\n",
      " n =  36 , index =  32\n",
      " n =  36 , index =  33\n",
      " n =  36 , index =  34\n",
      " n =  36 , index =  35\n",
      "sum =  55\n"
     ]
    }
   ],
   "source": [
    "n = 36\n",
    "sum = 0\n",
    "index = 1\n",
    "while n > index:\n",
    "    if n % index ==0:\n",
    "        sum += index\n",
    "    index += 1\n",
    "print(\"sum = \", sum)"
   ]
  }
 ],
 "metadata": {
  "kernelspec": {
   "display_name": "Python 3 (ipykernel)",
   "language": "python",
   "name": "python3"
  },
  "language_info": {
   "codemirror_mode": {
    "name": "ipython",
    "version": 3
   },
   "file_extension": ".py",
   "mimetype": "text/x-python",
   "name": "python",
   "nbconvert_exporter": "python",
   "pygments_lexer": "ipython3",
   "version": "3.10.9"
  }
 },
 "nbformat": 4,
 "nbformat_minor": 5
}
