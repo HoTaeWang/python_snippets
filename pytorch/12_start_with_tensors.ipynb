{
 "cells": [
  {
   "cell_type": "code",
   "execution_count": 1,
   "id": "728483d0-9a31-44d2-b026-a6a67a210133",
   "metadata": {},
   "outputs": [
    {
     "name": "stdout",
     "output_type": "stream",
     "text": [
      "torch.Size([3, 2]) torch.Size([2, 3])\n",
      "tensor([[1., 1.],\n",
      "        [1., 1.],\n",
      "        [1., 1.]])\n",
      "tensor([[1., 1., 1.],\n",
      "        [1., 1., 1.]])\n"
     ]
    }
   ],
   "source": [
    "import torch\n",
    "\n",
    "##################################################################################\n",
    "# transpote & permute examples\n",
    "a = torch.ones(3, 2)\n",
    "a_t = torch.transpose(a, 0, 1)\n",
    "\n",
    "print(a.shape, a_t.shape)\n",
    "print(a)\n",
    "print(a_t)\n"
   ]
  },
  {
   "cell_type": "code",
   "execution_count": 9,
   "id": "fb43f686-1a08-4322-9c2d-47fd2a3657e0",
   "metadata": {},
   "outputs": [
    {
     "name": "stdout",
     "output_type": "stream",
     "text": [
      "torch.Size([2, 4]) torch.Size([4, 2])\n",
      "tensor([[1., 1., 1., 1.],\n",
      "        [1., 1., 1., 1.]])\n",
      "tensor([[1., 1.],\n",
      "        [1., 1.],\n",
      "        [1., 1.],\n",
      "        [1., 1.]])\n"
     ]
    }
   ],
   "source": [
    "b = torch.ones(2, 4)\n",
    "b_t = b.transpose(0, 1)\n",
    "print(b.shape, b_t.shape)\n",
    "print(b)\n",
    "print(b_t)"
   ]
  },
  {
   "cell_type": "code",
   "execution_count": 16,
   "id": "491ff52b-b45d-4e57-a4f4-b3883b070971",
   "metadata": {},
   "outputs": [
    {
     "name": "stdout",
     "output_type": "stream",
     "text": [
      "tensor([[4., 1.],\n",
      "        [5., 3.],\n",
      "        [2., 1.]])\n",
      " 4.0\n",
      " 1.0\n",
      " 5.0\n",
      " 3.0\n",
      " 2.0\n",
      " 1.0\n",
      "[torch.storage.TypedStorage(dtype=torch.float32, device=cpu) of size 6]\n",
      " 0\n",
      " 0\n",
      " 128\n",
      " 64\n",
      " 0\n",
      " 0\n",
      " 128\n",
      " 63\n",
      " 0\n",
      " 0\n",
      " 160\n",
      " 64\n",
      " 0\n",
      " 0\n",
      " 64\n",
      " 64\n",
      " 0\n",
      " 0\n",
      " 0\n",
      " 64\n",
      " 0\n",
      " 0\n",
      " 128\n",
      " 63\n",
      "[torch.storage.UntypedStorage(device=cpu) of size 24]\n"
     ]
    }
   ],
   "source": [
    "##################################################################################\n",
    "# storage  (indexing into storage)\n",
    "points = torch.tensor([[4.0, 1.0], [5.0, 3.0], [2.0, 1.0]])\n",
    "print(points)\n",
    "print(points.storage())\n",
    "print(points.untyped_storage())"
   ]
  },
  {
   "cell_type": "code",
   "execution_count": 19,
   "id": "a2ae6e81-8076-4b05-875d-76da50408b5d",
   "metadata": {},
   "outputs": [
    {
     "name": "stdout",
     "output_type": "stream",
     "text": [
      "points_storage =  4.0\n",
      "points.storage()[1] =  1.0\n"
     ]
    }
   ],
   "source": [
    "points_storage = points.storage()\n",
    "print('points_storage = ', points_storage[0])\n",
    "print('points.storage()[1] = ', points.storage()[1])"
   ]
  }
 ],
 "metadata": {
  "kernelspec": {
   "display_name": "Python 3 (ipykernel)",
   "language": "python",
   "name": "python3"
  },
  "language_info": {
   "codemirror_mode": {
    "name": "ipython",
    "version": 3
   },
   "file_extension": ".py",
   "mimetype": "text/x-python",
   "name": "python",
   "nbconvert_exporter": "python",
   "pygments_lexer": "ipython3",
   "version": "3.10.9"
  }
 },
 "nbformat": 4,
 "nbformat_minor": 5
}
