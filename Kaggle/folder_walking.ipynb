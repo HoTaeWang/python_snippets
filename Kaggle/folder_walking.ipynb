{
 "cells": [
  {
   "cell_type": "code",
   "execution_count": 32,
   "id": "b6f8a964-f7f0-4eb8-9ed4-be7320ac7c30",
   "metadata": {},
   "outputs": [
    {
     "name": "stdout",
     "output_type": "stream",
     "text": [
      "D:\\Projects\\Kaggle\n"
     ]
    }
   ],
   "source": [
    "import os\n",
    "\n",
    "print(os.getcwd())\n",
    "\n",
    "def print_dir_contents(dir_path):\n",
    "    for root, dirs, files in os.walk(dir_path):\n",
    "        print(\"Current directory: \", root)\n",
    "        print(\"Sub Directories: \", len(dirs))\n",
    "        print(\"Files: \", len(files))\n",
    "        for dir in dirs:\n",
    "            print(\"Sub directory: \", dir)\n",
    "        for file in files:\n",
    "            print(\"File : \", file)\n",
    "\n",
    "            \n",
    "def print_filenames(dir_path):\n",
    "    for dirname, _, filenames in os.walk(dir_path):\n",
    "        for filename in filenames:\n",
    "            print(os.path.join(dirname, filename))"
   ]
  },
  {
   "cell_type": "code",
   "execution_count": null,
   "id": "e84a7be2-d14c-4254-bbd4-a84c89cd50a2",
   "metadata": {},
   "outputs": [],
   "source": []
  }
 ],
 "metadata": {
  "kernelspec": {
   "display_name": "Python 3 (ipykernel)",
   "language": "python",
   "name": "python3"
  },
  "language_info": {
   "codemirror_mode": {
    "name": "ipython",
    "version": 3
   },
   "file_extension": ".py",
   "mimetype": "text/x-python",
   "name": "python",
   "nbconvert_exporter": "python",
   "pygments_lexer": "ipython3",
   "version": "3.10.13"
  }
 },
 "nbformat": 4,
 "nbformat_minor": 5
}
