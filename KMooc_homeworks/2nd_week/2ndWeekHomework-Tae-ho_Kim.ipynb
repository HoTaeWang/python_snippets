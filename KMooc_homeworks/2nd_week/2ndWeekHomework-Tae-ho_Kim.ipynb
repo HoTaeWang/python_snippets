{
 "cells": [
  {
   "cell_type": "code",
   "execution_count": 39,
   "id": "550af786-e9f8-480f-b011-8a28356e13c9",
   "metadata": {},
   "outputs": [
    {
     "name": "stdout",
     "output_type": "stream",
     "text": [
      "1) Loading Image.........\n",
      "  Image Shape(H, W, C): img1 = (480, 640, 3), img2 = (480, 640, 3), img3 = (480, 640, 3) \n",
      "  Type of images: img1=uint8, img2=uint8, img3=uint8\n",
      "2) Convert Image to Tensor .........\n",
      "  Size (C, H, W) : img1 = torch.Size([3, 480, 640]), img2 = torch.Size([3, 480, 640]), img3 = torch.Size([3, 480, 640]) \n",
      "  Type: img1 = torch.FloatTensor, img2 = torch.FloatTensor, img3 = torch.FloatTensor \n",
      " 3) 3개 이미지를 하나의 Tensor로 stack......\n",
      "    shape of stacked_images(Channel, C, H, W) =  torch.Size([3, 3, 480, 640])\n",
      " 4) (3, 3, 480, 640) 크기의 텐서를 (3, 921600) 크기로 변환......\n",
      "    shape of (3, 921600) 크기텐서 =  torch.Size([3, 921600])\n",
      " 5) 변환된 (3, 921600) 크기 텐서의 평균을 계산......\n",
      "    average of tensor =  tensor([0.5649, 0.5369, 0.3357])\n",
      "\n",
      "Result =  tensor([144.0534, 136.8987,  85.5972])\n"
     ]
    }
   ],
   "source": [
    "# load images and transfer into torch\n",
    "import torch\n",
    "import numpy as np\n",
    "import cv2\n",
    "import torchvision.transforms as tf\n",
    "\n",
    "#####################################################################\n",
    "# 이미지 입력\n",
    "img1 = cv2.imread(\"./1.jpg\", cv2.COLOR_BGR2RGB)\n",
    "img2 = cv2.imread(\"./2.jpg\", cv2.COLOR_BGR2RGB)\n",
    "img3 = cv2.imread(\"./3.jpg\", cv2.COLOR_BGR2RGB)\n",
    "\n",
    "# Check the attributes of images\n",
    "print(\"1) Loading Image.........\") \n",
    "print(\"  Image Shape(H, W, C): img1 = {}, img2 = {}, img3 = {} \".format(img1.shape, img2.shape, img3.shape))\n",
    "print(\"  Type of images: img1={}, img2={}, img3={}\".format(img1.dtype, img2.dtype, img3.dtype))\n",
    "## Debug Point#1 for DATA checking\n",
    "# print(img1)\n",
    "ave_img1 = img1.mean()\n",
    "ave_img2 = img2.mean()\n",
    "ave_img3 = img3.mean()\n",
    "#print(ave_img1, ave_img2, ave_img3)\n",
    "#####################################################################\n",
    "# pytorch tensor로 변환...\n",
    "img1_t = tf.ToTensor()(img1) \n",
    "img2_t = tf.ToTensor()(img2) \n",
    "img3_t = tf.ToTensor()(img3)\n",
    "\n",
    "print(\"2) Convert Image to Tensor .........\") \n",
    "print(\"  Size (C, H, W) : img1 = {}, img2 = {}, img3 = {} \".format(img1_t.size(), img2_t.size(), img3_t.size()))\n",
    "print(\"  Type: img1 = {}, img2 = {}, img3 = {} \".format(img1_t.type(), img2_t.type(), img3_t.type()))\n",
    "## Debug Point#2 for DATA checking\n",
    "# print(img1_tensor)\n",
    "\n",
    "#####################################################################\n",
    "# image 병합..... with stack API\n",
    "stacked_images = torch.stack([img1_tensor, img2_tensor, img3_tensor])\n",
    "print(\" 3) 3개 이미지를 하나의 Tensor로 stack......\")\n",
    "print(\"    shape of stacked_images(Channel, C, H, W) = \", stacked_images.shape)\n",
    "\n",
    "#####################################################################\n",
    "# (3, 3, 480, 640) 크기의 텐서를 (3, 921600) 크기로 변환\n",
    "reshaped_stacked_images = stacked_images.reshape(3, 921600)\n",
    "print(\" 4) (3, 3, 480, 640) 크기의 텐서를 (3, 921600) 크기로 변환......\")\n",
    "print('    shape of (3, 921600) 크기텐서 = ', reshaped_stacked_images.shape)\n",
    "\n",
    "#####################################################################\n",
    "# 변환된 (3, 921600) 크기 텐서의 평균을 계산\n",
    "average_images = torch.mean(reshaped_stacked_images, 1)\n",
    "print(\" 5) 변환된 (3, 921600) 크기 텐서의 평균을 계산......\")\n",
    "print(\"    average of tensor = \", average_images)\n",
    "# Tensor로 변환하면서 Normalize된 Image data를 denormalize 하기 위해 256을 곱함......\n",
    "average_images = average_images*255.0\n",
    "print(\"\\nResult = \", average_images)\n"
   ]
  }
 ],
 "metadata": {
  "kernelspec": {
   "display_name": "Python 3 (ipykernel)",
   "language": "python",
   "name": "python3"
  },
  "language_info": {
   "codemirror_mode": {
    "name": "ipython",
    "version": 3
   },
   "file_extension": ".py",
   "mimetype": "text/x-python",
   "name": "python",
   "nbconvert_exporter": "python",
   "pygments_lexer": "ipython3",
   "version": "3.10.9"
  }
 },
 "nbformat": 4,
 "nbformat_minor": 5
}
