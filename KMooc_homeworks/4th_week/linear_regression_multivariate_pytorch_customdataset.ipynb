{
 "cells": [
  {
   "cell_type": "code",
   "execution_count": null,
   "metadata": {
    "id": "0IIO2HrWWbxj"
   },
   "outputs": [],
   "source": [
    "class CustomNumbers:\n",
    "  def __init__(self, num):\n",
    "    self.numbers1 = [n for n in range(1, num)]\n",
    "    self.numbers2 = [n * 2 for n in range(1, num)]\n",
    "\n",
    "  def __getitem__(self, idx):\n",
    "    return self.numbers1[idx]\n",
    "\n",
    "  def __len__(self):\n",
    "    return len(self.numbers1)"
   ]
  },
  {
   "cell_type": "code",
   "execution_count": null,
   "metadata": {
    "colab": {
     "base_uri": "https://localhost:8080/"
    },
    "id": "lI-cRkLRWwzv",
    "outputId": "324a2d89-1b2b-43ac-e923-f0c8a93a4473"
   },
   "outputs": [
    {
     "name": "stdout",
     "output_type": "stream",
     "text": [
      "[3, 4, 5]\n",
      "[3, 4, 5]\n"
     ]
    }
   ],
   "source": [
    "obj = CustomNumbers(11)\n",
    "print(obj.numbers1[2:5])\n",
    "print(obj[2:5])"
   ]
  },
  {
   "cell_type": "code",
   "execution_count": null,
   "metadata": {
    "colab": {
     "base_uri": "https://localhost:8080/"
    },
    "id": "C_UQQTegW2OX",
    "outputId": "5df5da7d-c4b7-494f-c654-5dfe4c0bacbf"
   },
   "outputs": [
    {
     "name": "stdout",
     "output_type": "stream",
     "text": [
      "100\n"
     ]
    }
   ],
   "source": [
    "obj = CustomNumbers(101)\n",
    "print(len(obj))"
   ]
  },
  {
   "cell_type": "code",
   "execution_count": null,
   "metadata": {
    "id": "fi3fRhhJWDC9"
   },
   "outputs": [],
   "source": [
    "import torch\n",
    "import torch.nn as nn\n",
    "import torch.nn.functional as F\n",
    "from torch.utils.data import Dataset, DataLoader"
   ]
  },
  {
   "cell_type": "code",
   "execution_count": null,
   "metadata": {
    "id": "95rJjBSdWPiu"
   },
   "outputs": [],
   "source": [
    "class MyDataset(Dataset):\n",
    "    def __init__(self, x_data, y_data):\n",
    "        self.x_data = x_data\n",
    "        self.y_data = y_data\n",
    "\n",
    "    def __getitem__(self, idx):\n",
    "        return self.x_data[idx], self.y_data[idx]\n",
    "\n",
    "    def __len__(self):\n",
    "        return len(self.x_data)"
   ]
  },
  {
   "cell_type": "code",
   "execution_count": null,
   "metadata": {
    "id": "YIZ3LHHHXyOn"
   },
   "outputs": [],
   "source": [
    "x_train = torch.FloatTensor([[73, 80, 75],\n",
    "                             [93, 88, 93],\n",
    "                             [89, 91, 90],\n",
    "                             [96, 98, 100],\n",
    "                             [73, 66, 70]])\n",
    "y_train = torch.FloatTensor([[152],\n",
    "                             [185],\n",
    "                             [180],\n",
    "                             [196],\n",
    "                             [142]])\n",
    "dataset = MyDataset(x_train, y_train)\n",
    "dataloader = DataLoader(dataset, batch_size=2, shuffle=True)"
   ]
  },
  {
   "cell_type": "code",
   "execution_count": null,
   "metadata": {
    "id": "SFKH6oM_YCMG"
   },
   "outputs": [],
   "source": [
    "model = nn.Linear(3, 1)\n",
    "optimizer = torch.optim.SGD(model.parameters(), lr=1e-5)"
   ]
  },
  {
   "cell_type": "code",
   "execution_count": null,
   "metadata": {
    "colab": {
     "base_uri": "https://localhost:8080/"
    },
    "id": "V8IYXJvmYDum",
    "outputId": "875aaef8-a118-484f-f09b-ad38a1f15854"
   },
   "outputs": [
    {
     "name": "stdout",
     "output_type": "stream",
     "text": [
      "tensor([[ 93.,  88.,  93.],\n",
      "        [ 96.,  98., 100.]])\n",
      "tensor([[185.],\n",
      "        [196.]])\n",
      "Epoch 0/20 Cost: 49901.2109375\n",
      "tensor([[73., 66., 70.],\n",
      "        [73., 80., 75.]])\n",
      "tensor([[142.],\n",
      "        [152.]])\n",
      "Epoch 0/20 Cost: 6267.80908203125\n",
      "tensor([[89., 91., 90.]])\n",
      "tensor([[180.]])\n",
      "Epoch 0/20 Cost: 4253.23046875\n",
      "tensor([[ 96.,  98., 100.],\n",
      "        [ 93.,  88.,  93.]])\n",
      "tensor([[196.],\n",
      "        [185.]])\n",
      "Epoch 1/20 Cost: 1365.044677734375\n",
      "tensor([[73., 66., 70.],\n",
      "        [73., 80., 75.]])\n",
      "tensor([[142.],\n",
      "        [152.]])\n",
      "Epoch 1/20 Cost: 169.26812744140625\n",
      "tensor([[89., 91., 90.]])\n",
      "tensor([[180.]])\n",
      "Epoch 1/20 Cost: 90.90290832519531\n",
      "tensor([[93., 88., 93.],\n",
      "        [73., 66., 70.]])\n",
      "tensor([[185.],\n",
      "        [142.]])\n",
      "Epoch 2/20 Cost: 49.06129455566406\n",
      "tensor([[ 73.,  80.,  75.],\n",
      "        [ 96.,  98., 100.]])\n",
      "tensor([[152.],\n",
      "        [196.]])\n",
      "Epoch 2/20 Cost: 4.499648094177246\n",
      "tensor([[89., 91., 90.]])\n",
      "tensor([[180.]])\n",
      "Epoch 2/20 Cost: 0.7126352190971375\n",
      "tensor([[73., 80., 75.],\n",
      "        [93., 88., 93.]])\n",
      "tensor([[152.],\n",
      "        [185.]])\n",
      "Epoch 3/20 Cost: 4.89186954498291\n",
      "tensor([[73., 66., 70.],\n",
      "        [89., 91., 90.]])\n",
      "tensor([[142.],\n",
      "        [180.]])\n",
      "Epoch 3/20 Cost: 2.48600435256958\n",
      "tensor([[ 96.,  98., 100.]])\n",
      "tensor([[196.]])\n",
      "Epoch 3/20 Cost: 0.005215706303715706\n",
      "tensor([[ 96.,  98., 100.],\n",
      "        [ 93.,  88.,  93.]])\n",
      "tensor([[196.],\n",
      "        [185.]])\n",
      "Epoch 4/20 Cost: 2.0313479900360107\n",
      "tensor([[73., 66., 70.],\n",
      "        [89., 91., 90.]])\n",
      "tensor([[142.],\n",
      "        [180.]])\n",
      "Epoch 4/20 Cost: 1.9335932731628418\n",
      "tensor([[73., 80., 75.]])\n",
      "tensor([[152.]])\n",
      "Epoch 4/20 Cost: 1.387669324874878\n",
      "tensor([[ 96.,  98., 100.],\n",
      "        [ 89.,  91.,  90.]])\n",
      "tensor([[196.],\n",
      "        [180.]])\n",
      "Epoch 5/20 Cost: 0.23573146760463715\n",
      "tensor([[73., 80., 75.],\n",
      "        [73., 66., 70.]])\n",
      "tensor([[152.],\n",
      "        [142.]])\n",
      "Epoch 5/20 Cost: 2.384674549102783\n",
      "tensor([[93., 88., 93.]])\n",
      "tensor([[185.]])\n",
      "Epoch 5/20 Cost: 3.6043546199798584\n",
      "tensor([[ 89.,  91.,  90.],\n",
      "        [ 96.,  98., 100.]])\n",
      "tensor([[180.],\n",
      "        [196.]])\n",
      "Epoch 6/20 Cost: 2.142991304397583\n",
      "tensor([[73., 80., 75.],\n",
      "        [73., 66., 70.]])\n",
      "tensor([[152.],\n",
      "        [142.]])\n",
      "Epoch 6/20 Cost: 2.002607822418213\n",
      "tensor([[93., 88., 93.]])\n",
      "tensor([[185.]])\n",
      "Epoch 6/20 Cost: 2.4520514011383057\n",
      "tensor([[73., 80., 75.],\n",
      "        [73., 66., 70.]])\n",
      "tensor([[152.],\n",
      "        [142.]])\n",
      "Epoch 7/20 Cost: 2.0953545570373535\n",
      "tensor([[89., 91., 90.],\n",
      "        [93., 88., 93.]])\n",
      "tensor([[180.],\n",
      "        [185.]])\n",
      "Epoch 7/20 Cost: 1.8969426155090332\n",
      "tensor([[ 96.,  98., 100.]])\n",
      "tensor([[196.]])\n",
      "Epoch 7/20 Cost: 0.9464461207389832\n",
      "tensor([[ 96.,  98., 100.],\n",
      "        [ 93.,  88.,  93.]])\n",
      "tensor([[196.],\n",
      "        [185.]])\n",
      "Epoch 8/20 Cost: 1.4539098739624023\n",
      "tensor([[73., 66., 70.],\n",
      "        [89., 91., 90.]])\n",
      "tensor([[142.],\n",
      "        [180.]])\n",
      "Epoch 8/20 Cost: 1.929702877998352\n",
      "tensor([[73., 80., 75.]])\n",
      "tensor([[152.]])\n",
      "Epoch 8/20 Cost: 1.575688362121582\n",
      "tensor([[ 96.,  98., 100.],\n",
      "        [ 89.,  91.,  90.]])\n",
      "tensor([[196.],\n",
      "        [180.]])\n",
      "Epoch 9/20 Cost: 0.28898191452026367\n",
      "tensor([[73., 66., 70.],\n",
      "        [73., 80., 75.]])\n",
      "tensor([[142.],\n",
      "        [152.]])\n",
      "Epoch 9/20 Cost: 2.3356587886810303\n",
      "tensor([[93., 88., 93.]])\n",
      "tensor([[185.]])\n",
      "Epoch 9/20 Cost: 3.5053329467773438\n",
      "tensor([[89., 91., 90.],\n",
      "        [73., 66., 70.]])\n",
      "tensor([[180.],\n",
      "        [142.]])\n",
      "Epoch 10/20 Cost: 2.127845525741577\n",
      "tensor([[ 73.,  80.,  75.],\n",
      "        [ 96.,  98., 100.]])\n",
      "tensor([[152.],\n",
      "        [196.]])\n",
      "Epoch 10/20 Cost: 1.5353825092315674\n",
      "tensor([[93., 88., 93.]])\n",
      "tensor([[185.]])\n",
      "Epoch 10/20 Cost: 2.8916499614715576\n",
      "tensor([[ 73.,  66.,  70.],\n",
      "        [ 96.,  98., 100.]])\n",
      "tensor([[142.],\n",
      "        [196.]])\n",
      "Epoch 11/20 Cost: 1.3967918157577515\n",
      "tensor([[93., 88., 93.],\n",
      "        [89., 91., 90.]])\n",
      "tensor([[185.],\n",
      "        [180.]])\n",
      "Epoch 11/20 Cost: 1.8660576343536377\n",
      "tensor([[73., 80., 75.]])\n",
      "tensor([[152.]])\n",
      "Epoch 11/20 Cost: 2.10886812210083\n",
      "tensor([[ 96.,  98., 100.],\n",
      "        [ 73.,  80.,  75.]])\n",
      "tensor([[196.],\n",
      "        [152.]])\n",
      "Epoch 12/20 Cost: 0.4952489733695984\n",
      "tensor([[73., 66., 70.],\n",
      "        [89., 91., 90.]])\n",
      "tensor([[142.],\n",
      "        [180.]])\n",
      "Epoch 12/20 Cost: 2.1666600704193115\n",
      "tensor([[93., 88., 93.]])\n",
      "tensor([[185.]])\n",
      "Epoch 12/20 Cost: 3.262296438217163\n",
      "tensor([[73., 66., 70.],\n",
      "        [89., 91., 90.]])\n",
      "tensor([[142.],\n",
      "        [180.]])\n",
      "Epoch 13/20 Cost: 2.145620822906494\n",
      "tensor([[ 93.,  88.,  93.],\n",
      "        [ 96.,  98., 100.]])\n",
      "tensor([[185.],\n",
      "        [196.]])\n",
      "Epoch 13/20 Cost: 1.1053320169448853\n",
      "tensor([[73., 80., 75.]])\n",
      "tensor([[152.]])\n",
      "Epoch 13/20 Cost: 2.2088537216186523\n",
      "tensor([[73., 66., 70.],\n",
      "        [89., 91., 90.]])\n",
      "tensor([[142.],\n",
      "        [180.]])\n",
      "Epoch 14/20 Cost: 1.9598591327667236\n",
      "tensor([[ 96.,  98., 100.],\n",
      "        [ 73.,  80.,  75.]])\n",
      "tensor([[196.],\n",
      "        [152.]])\n",
      "Epoch 14/20 Cost: 0.6559839844703674\n",
      "tensor([[93., 88., 93.]])\n",
      "tensor([[185.]])\n",
      "Epoch 14/20 Cost: 3.8205406665802\n",
      "tensor([[ 93.,  88.,  93.],\n",
      "        [ 96.,  98., 100.]])\n",
      "tensor([[185.],\n",
      "        [196.]])\n",
      "Epoch 15/20 Cost: 1.1149359941482544\n",
      "tensor([[73., 80., 75.],\n",
      "        [73., 66., 70.]])\n",
      "tensor([[152.],\n",
      "        [142.]])\n",
      "Epoch 15/20 Cost: 1.928652048110962\n",
      "tensor([[89., 91., 90.]])\n",
      "tensor([[180.]])\n",
      "Epoch 15/20 Cost: 2.3126864433288574\n",
      "tensor([[ 96.,  98., 100.],\n",
      "        [ 89.,  91.,  90.]])\n",
      "tensor([[196.],\n",
      "        [180.]])\n",
      "Epoch 16/20 Cost: 0.3196726441383362\n",
      "tensor([[73., 66., 70.],\n",
      "        [73., 80., 75.]])\n",
      "tensor([[142.],\n",
      "        [152.]])\n",
      "Epoch 16/20 Cost: 2.2905571460723877\n",
      "tensor([[93., 88., 93.]])\n",
      "tensor([[185.]])\n",
      "Epoch 16/20 Cost: 3.429979085922241\n",
      "tensor([[ 96.,  98., 100.],\n",
      "        [ 89.,  91.,  90.]])\n",
      "tensor([[196.],\n",
      "        [180.]])\n",
      "Epoch 17/20 Cost: 2.1659224033355713\n",
      "tensor([[73., 66., 70.],\n",
      "        [93., 88., 93.]])\n",
      "tensor([[142.],\n",
      "        [185.]])\n",
      "Epoch 17/20 Cost: 2.8338992595672607\n",
      "tensor([[73., 80., 75.]])\n",
      "tensor([[152.]])\n",
      "Epoch 17/20 Cost: 2.640178680419922\n",
      "tensor([[ 96.,  98., 100.],\n",
      "        [ 89.,  91.,  90.]])\n",
      "tensor([[196.],\n",
      "        [180.]])\n",
      "Epoch 18/20 Cost: 0.6526235938072205\n",
      "tensor([[93., 88., 93.],\n",
      "        [73., 80., 75.]])\n",
      "tensor([[185.],\n",
      "        [152.]])\n",
      "Epoch 18/20 Cost: 2.23545503616333\n",
      "tensor([[73., 66., 70.]])\n",
      "tensor([[142.]])\n",
      "Epoch 18/20 Cost: 2.82822322845459\n",
      "tensor([[ 96.,  98., 100.],\n",
      "        [ 73.,  80.,  75.]])\n",
      "tensor([[196.],\n",
      "        [152.]])\n",
      "Epoch 19/20 Cost: 1.824933409690857\n",
      "tensor([[89., 91., 90.],\n",
      "        [73., 66., 70.]])\n",
      "tensor([[180.],\n",
      "        [142.]])\n",
      "Epoch 19/20 Cost: 1.912320852279663\n",
      "tensor([[93., 88., 93.]])\n",
      "tensor([[185.]])\n",
      "Epoch 19/20 Cost: 2.407384157180786\n",
      "tensor([[ 96.,  98., 100.],\n",
      "        [ 73.,  80.,  75.]])\n",
      "tensor([[196.],\n",
      "        [152.]])\n",
      "Epoch 20/20 Cost: 2.412623643875122\n",
      "tensor([[93., 88., 93.],\n",
      "        [89., 91., 90.]])\n",
      "tensor([[185.],\n",
      "        [180.]])\n",
      "Epoch 20/20 Cost: 1.7733386754989624\n",
      "tensor([[73., 66., 70.]])\n",
      "tensor([[142.]])\n",
      "Epoch 20/20 Cost: 2.2537553310394287\n"
     ]
    }
   ],
   "source": [
    "nb_epochs = 20\n",
    "for epoch in range(nb_epochs+1):\n",
    "  for batch_idx, samples in enumerate(dataloader):\n",
    "    x_train, y_train = samples\n",
    "    print(x_train, y_train, sep='\\n')\n",
    "    prediction = model(x_train)\n",
    "    cost = F.mse_loss(prediction, y_train)\n",
    "\n",
    "    optimizer.zero_grad()\n",
    "    cost.backward()\n",
    "    optimizer.step()\n",
    "\n",
    "    print('Epoch {}/{} Cost: {}'.format(epoch, nb_epochs, cost.item()))"
   ]
  },
  {
   "cell_type": "code",
   "execution_count": null,
   "metadata": {
    "colab": {
     "base_uri": "https://localhost:8080/"
    },
    "id": "qB-Y3LnnYFGm",
    "outputId": "d8e65c53-fc33-4303-c599-4af4ac3667e0"
   },
   "outputs": [
    {
     "name": "stdout",
     "output_type": "stream",
     "text": [
      "훈련 후 입력이 73, 80, 75 일 때의 예측값:  153.69271850585938\n"
     ]
    }
   ],
   "source": [
    "new_var = torch.FloatTensor([[73, 80, 75]])\n",
    "pred_y = model(new_var)\n",
    "print('훈련 후 입력이 73, 80, 75 일 때의 예측값: ', pred_y.item())"
   ]
  },
  {
   "cell_type": "code",
   "execution_count": null,
   "metadata": {
    "id": "ZC_7Y8IOYIZW"
   },
   "outputs": [],
   "source": []
  }
 ],
 "metadata": {
  "colab": {
   "collapsed_sections": [],
   "provenance": []
  },
  "kernelspec": {
   "display_name": "Python 3 (ipykernel)",
   "language": "python",
   "name": "python3"
  },
  "language_info": {
   "codemirror_mode": {
    "name": "ipython",
    "version": 3
   },
   "file_extension": ".py",
   "mimetype": "text/x-python",
   "name": "python",
   "nbconvert_exporter": "python",
   "pygments_lexer": "ipython3",
   "version": "3.10.9"
  }
 },
 "nbformat": 4,
 "nbformat_minor": 4
}
