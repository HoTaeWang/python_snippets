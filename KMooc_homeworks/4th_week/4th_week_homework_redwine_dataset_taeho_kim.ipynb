{
 "cells": [
  {
   "cell_type": "code",
   "execution_count": 1,
   "metadata": {
    "id": "ZXx2ZxYhQ3NR",
    "tags": []
   },
   "outputs": [],
   "source": [
    "#################################################################################\n",
    "### 4th week homework: redwine dataset\n",
    "### HoTaeWang@gmail.com   Tae-ho Kim\n",
    "###\n",
    "import torch\n",
    "import torch.nn as nn\n",
    "import torch.nn.functional as F\n",
    "from torch.utils.data import Dataset        # DATASet\n",
    "from torch.utils.data import DataLoader     # DataLoader\n",
    "import csv   # to load csv file\n",
    "import numpy as np"
   ]
  },
  {
   "cell_type": "code",
   "execution_count": 4,
   "metadata": {
    "id": "YEBBnIHLQ98L",
    "tags": []
   },
   "outputs": [
    {
     "name": "stdout",
     "output_type": "stream",
     "text": [
      "data shape (1599, 12)\n",
      "self data = 1599\n",
      "Shape of X =  torch.Size([8, 11])\n",
      "Shape of Y =  torch.Size([8])\n"
     ]
    }
   ],
   "source": [
    "#  WineQuality red csv 파일을 읽어 들이는 함수\n",
    "def csv_read(path):\n",
    "    data = []\n",
    "    with open(path) as f:\n",
    "        reader = csv.reader(f)\n",
    "        _ = next(reader)                # skip the first line\n",
    "        for idx, row in enumerate(reader):\n",
    "            data.append(row)            # read a line by line\n",
    "    return np.array(data, dtype=float)  # return all of data array\n",
    "\n",
    "### Load the dataset from the winequality-red-rev.scv\n",
    "### WineDataset을 만들기 위해, __init__, __getitem__, __len__ 을 구현함....\n",
    "class WineDataset(Dataset):\n",
    "    def __init__(self, path):\n",
    "        # csv_read() 함수를 이용하여, csv로 부터 DATA를 읽어 들인다...\n",
    "        data = csv_read(path)        \n",
    "        print('data shape', data.shape)\n",
    "        self.length = data.shape[0]\n",
    "        print('self data =', self.length)\n",
    "        self.x_data = data[:, 0:-1]\n",
    "        self.y_data = data[:, -1]\n",
    "        \n",
    "    def __getitem__(self, idx):   #  특정 index의 값을 전달하는 __getitem__함수 구현.....   \n",
    "        return self.x_data[idx], self.y_data[idx]\n",
    "    \n",
    "    def __len__(self):      # 전체 DATASET의 갯수 return\n",
    "        return self.length\n",
    "    \n",
    "dataset = WineDataset('winequality-red-rev.csv')\n",
    "dataloader = DataLoader(dataset, batch_size=8, shuffle=True)\n",
    "\n",
    "x_batch, y_batch = next(iter(dataloader))\n",
    "print('Shape of X = ', x_batch.shape)\n",
    "print('Shape of Y = ', y_batch.shape)\n"
   ]
  }
 ],
 "metadata": {
  "colab": {
   "collapsed_sections": [],
   "provenance": []
  },
  "kernelspec": {
   "display_name": "Python 3 (ipykernel)",
   "language": "python",
   "name": "python3"
  },
  "language_info": {
   "codemirror_mode": {
    "name": "ipython",
    "version": 3
   },
   "file_extension": ".py",
   "mimetype": "text/x-python",
   "name": "python",
   "nbconvert_exporter": "python",
   "pygments_lexer": "ipython3",
   "version": "3.10.9"
  }
 },
 "nbformat": 4,
 "nbformat_minor": 4
}
