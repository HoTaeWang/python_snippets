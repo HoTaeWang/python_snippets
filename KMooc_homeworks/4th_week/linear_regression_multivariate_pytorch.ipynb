{
 "cells": [
  {
   "cell_type": "code",
   "execution_count": null,
   "metadata": {
    "id": "n7Vi3Tk-MGhL"
   },
   "outputs": [],
   "source": [
    "import torch\n",
    "import torch.nn as nn\n",
    "import torch.nn.functional as F"
   ]
  },
  {
   "cell_type": "code",
   "execution_count": null,
   "metadata": {
    "id": "rRjZ7X_IMOoN"
   },
   "outputs": [],
   "source": [
    "x_train = torch.FloatTensor([[73, 80, 75],\n",
    "                             [93, 88, 93],\n",
    "                             [89, 91, 90],\n",
    "                             [96, 98, 100],\n",
    "                             [73, 66, 70]])\n",
    "y_train = torch.FloatTensor([[152],\n",
    "                             [185],\n",
    "                             [180],\n",
    "                             [196],\n",
    "                             [142]])"
   ]
  },
  {
   "cell_type": "code",
   "execution_count": null,
   "metadata": {
    "id": "lzQChIstMne1"
   },
   "outputs": [],
   "source": [
    "model = nn.Linear(3, 1)"
   ]
  },
  {
   "cell_type": "code",
   "execution_count": null,
   "metadata": {
    "id": "Q2T6C35-MpoE"
   },
   "outputs": [],
   "source": [
    "optimizer = torch.optim.SGD(model.parameters(), lr=1e-5)"
   ]
  },
  {
   "cell_type": "code",
   "execution_count": null,
   "metadata": {
    "colab": {
     "base_uri": "https://localhost:8080/"
    },
    "id": "nOgzmKMfMuEE",
    "outputId": "f9db7cbb-763f-4189-a235-391489138045"
   },
   "outputs": [
    {
     "name": "stdout",
     "output_type": "stream",
     "text": [
      "Epoch 0/2000 Cost: 1.0643019676208496\n",
      "Epoch 100/2000 Cost: 1.0420467853546143\n",
      "Epoch 200/2000 Cost: 1.0208408832550049\n",
      "Epoch 300/2000 Cost: 1.0006325244903564\n",
      "Epoch 400/2000 Cost: 0.9813704490661621\n",
      "Epoch 500/2000 Cost: 0.9629934430122375\n",
      "Epoch 600/2000 Cost: 0.9454746246337891\n",
      "Epoch 700/2000 Cost: 0.9287654161453247\n",
      "Epoch 800/2000 Cost: 0.9128034710884094\n",
      "Epoch 900/2000 Cost: 0.8975481986999512\n",
      "Epoch 1000/2000 Cost: 0.8830059766769409\n",
      "Epoch 1100/2000 Cost: 0.8691088557243347\n",
      "Epoch 1200/2000 Cost: 0.8558164834976196\n",
      "Epoch 1300/2000 Cost: 0.8431093096733093\n",
      "Epoch 1400/2000 Cost: 0.8309475183486938\n",
      "Epoch 1500/2000 Cost: 0.8193260431289673\n",
      "Epoch 1600/2000 Cost: 0.8081949353218079\n",
      "Epoch 1700/2000 Cost: 0.7975298762321472\n",
      "Epoch 1800/2000 Cost: 0.7873141169548035\n",
      "Epoch 1900/2000 Cost: 0.7775388360023499\n",
      "Epoch 2000/2000 Cost: 0.768146812915802\n"
     ]
    }
   ],
   "source": [
    "nb_epochs = 2000\n",
    "for epoch in range(nb_epochs+1):\n",
    "  prediction = model(x_train)\n",
    "  cost = F.mse_loss(prediction, y_train)\n",
    "\n",
    "  optimizer.zero_grad()\n",
    "  cost.backward()\n",
    "  optimizer.step()\n",
    "\n",
    "  if epoch%100 == 0:\n",
    "    print('Epoch {}/{} Cost: {}'.format(epoch, nb_epochs, cost.item()))"
   ]
  },
  {
   "cell_type": "code",
   "execution_count": null,
   "metadata": {
    "colab": {
     "base_uri": "https://localhost:8080/"
    },
    "id": "ZHEa9q6_NCfz",
    "outputId": "aabe2f28-a9ce-4d04-ba80-742de53f7951"
   },
   "outputs": [
    {
     "name": "stdout",
     "output_type": "stream",
     "text": [
      "훈련 후 입력이 73, 80, 75 일 때의 예측값:  151.43252563476562\n"
     ]
    }
   ],
   "source": [
    "new_var = torch.FloatTensor([[73, 80, 75]])\n",
    "pred_y = model(new_var)\n",
    "print('훈련 후 입력이 73, 80, 75 일 때의 예측값: ', pred_y.item())"
   ]
  }
 ],
 "metadata": {
  "colab": {
   "collapsed_sections": [],
   "provenance": []
  },
  "kernelspec": {
   "display_name": "Python 3 (ipykernel)",
   "language": "python",
   "name": "python3"
  },
  "language_info": {
   "codemirror_mode": {
    "name": "ipython",
    "version": 3
   },
   "file_extension": ".py",
   "mimetype": "text/x-python",
   "name": "python",
   "nbconvert_exporter": "python",
   "pygments_lexer": "ipython3",
   "version": "3.10.9"
  }
 },
 "nbformat": 4,
 "nbformat_minor": 4
}
