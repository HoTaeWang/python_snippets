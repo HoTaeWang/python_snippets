{
 "cells": [
  {
   "cell_type": "code",
   "execution_count": null,
   "metadata": {
    "colab": {
     "base_uri": "https://localhost:8080/"
    },
    "id": "qIHW4BsxghkQ",
    "outputId": "e3851de5-35ee-4605-aecc-b616d85f52c4"
   },
   "outputs": [
    {
     "name": "stdout",
     "output_type": "stream",
     "text": [
      "수식을 w로 미분한 값: 8.0\n"
     ]
    }
   ],
   "source": [
    "import torch\n",
    "\n",
    "w = torch.tensor(2.0, requires_grad=True)\n",
    "\n",
    "y = w**2\n",
    "z = 2 * y + 5\n",
    "\n",
    "z.backward()\n",
    "\n",
    "print(f'수식을 w로 미분한 값: {w.grad}')"
   ]
  },
  {
   "cell_type": "code",
   "execution_count": null,
   "metadata": {
    "colab": {
     "base_uri": "https://localhost:8080/"
    },
    "id": "A3qzWa1emnkM",
    "outputId": "d6ec2083-ddc5-41e9-a9a0-ffe04d7acd1f"
   },
   "outputs": [
    {
     "name": "stdout",
     "output_type": "stream",
     "text": [
      "수식을 w로 미분한 값: 2.0\n",
      "수식을 w로 미분한 값: 4.0\n",
      "수식을 w로 미분한 값: 6.0\n",
      "수식을 w로 미분한 값: 8.0\n",
      "수식을 w로 미분한 값: 10.0\n",
      "수식을 w로 미분한 값: 12.0\n",
      "수식을 w로 미분한 값: 14.0\n",
      "수식을 w로 미분한 값: 16.0\n",
      "수식을 w로 미분한 값: 18.0\n",
      "수식을 w로 미분한 값: 20.0\n",
      "수식을 w로 미분한 값: 22.0\n",
      "수식을 w로 미분한 값: 24.0\n",
      "수식을 w로 미분한 값: 26.0\n",
      "수식을 w로 미분한 값: 28.0\n",
      "수식을 w로 미분한 값: 30.0\n",
      "수식을 w로 미분한 값: 32.0\n",
      "수식을 w로 미분한 값: 34.0\n",
      "수식을 w로 미분한 값: 36.0\n",
      "수식을 w로 미분한 값: 38.0\n",
      "수식을 w로 미분한 값: 40.0\n",
      "수식을 w로 미분한 값: 42.0\n"
     ]
    }
   ],
   "source": [
    "w = torch.tensor(2.0, requires_grad=True)\n",
    "nb_epochs = 20\n",
    "for epoch in range(nb_epochs + 1):\n",
    "  z = 2 * w\n",
    "  z.backward()\n",
    "  print(f'수식을 w로 미분한 값: {w.grad}')"
   ]
  },
  {
   "cell_type": "code",
   "execution_count": null,
   "metadata": {
    "colab": {
     "base_uri": "https://localhost:8080/"
    },
    "id": "msxpuXi-nUH9",
    "outputId": "1523d082-82b3-4b14-920b-a1ee5f5052e5"
   },
   "outputs": [
    {
     "name": "stdout",
     "output_type": "stream",
     "text": [
      "수식을 w로 미분한 값: 2.0\n",
      "수식을 w로 미분한 값: 2.0\n",
      "수식을 w로 미분한 값: 2.0\n",
      "수식을 w로 미분한 값: 2.0\n",
      "수식을 w로 미분한 값: 2.0\n",
      "수식을 w로 미분한 값: 2.0\n",
      "수식을 w로 미분한 값: 2.0\n",
      "수식을 w로 미분한 값: 2.0\n",
      "수식을 w로 미분한 값: 2.0\n",
      "수식을 w로 미분한 값: 2.0\n",
      "수식을 w로 미분한 값: 2.0\n",
      "수식을 w로 미분한 값: 2.0\n",
      "수식을 w로 미분한 값: 2.0\n",
      "수식을 w로 미분한 값: 2.0\n",
      "수식을 w로 미분한 값: 2.0\n",
      "수식을 w로 미분한 값: 2.0\n",
      "수식을 w로 미분한 값: 2.0\n",
      "수식을 w로 미분한 값: 2.0\n",
      "수식을 w로 미분한 값: 2.0\n",
      "수식을 w로 미분한 값: 2.0\n",
      "수식을 w로 미분한 값: 2.0\n"
     ]
    }
   ],
   "source": [
    "w = torch.tensor(2.0, requires_grad=True)\n",
    "nb_epochs = 20\n",
    "for epoch in range(nb_epochs + 1):\n",
    "  z = 2 * w\n",
    "  if w.grad is not None:\n",
    "    w.grad.zero_()\n",
    "  z.backward()\n",
    "  print(f'수식을 w로 미분한 값: {w.grad}')"
   ]
  },
  {
   "cell_type": "code",
   "execution_count": null,
   "metadata": {
    "id": "peacbSzLnuZl"
   },
   "outputs": [],
   "source": []
  }
 ],
 "metadata": {
  "accelerator": "GPU",
  "colab": {
   "collapsed_sections": [],
   "provenance": []
  },
  "gpuClass": "standard",
  "kernelspec": {
   "display_name": "Python 3 (ipykernel)",
   "language": "python",
   "name": "python3"
  },
  "language_info": {
   "codemirror_mode": {
    "name": "ipython",
    "version": 3
   },
   "file_extension": ".py",
   "mimetype": "text/x-python",
   "name": "python",
   "nbconvert_exporter": "python",
   "pygments_lexer": "ipython3",
   "version": "3.10.9"
  }
 },
 "nbformat": 4,
 "nbformat_minor": 4
}
